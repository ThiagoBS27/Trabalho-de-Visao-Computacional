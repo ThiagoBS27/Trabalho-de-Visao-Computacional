{
 "cells": [
  {
   "cell_type": "code",
   "execution_count": 1,
   "metadata": {},
   "outputs": [],
   "source": [
    "import os\n",
    "import cv2\n",
    "import numpy as np\n",
    "from tqdm import tqdm"
   ]
  },
  {
   "cell_type": "code",
   "execution_count": 2,
   "metadata": {},
   "outputs": [
    {
     "name": "stdout",
     "output_type": "stream",
     "text": [
      "C:/Users/ThiagoBS/Desktop/Trabalho de Visao Computacional/Sign Language Tests/ASL Alphabet/asl_alphabet_train/A\n"
     ]
    },
    {
     "name": "stderr",
     "output_type": "stream",
     "text": [
      "100%|█████████████████████████████████████| 3000/3000 [00:03<00:00, 892.78it/s]\n"
     ]
    },
    {
     "name": "stdout",
     "output_type": "stream",
     "text": [
      "C:/Users/ThiagoBS/Desktop/Trabalho de Visao Computacional/Sign Language Tests/ASL Alphabet/asl_alphabet_train/B\n"
     ]
    },
    {
     "name": "stderr",
     "output_type": "stream",
     "text": [
      "100%|█████████████████████████████████████| 3000/3000 [00:03<00:00, 792.94it/s]\n"
     ]
    },
    {
     "name": "stdout",
     "output_type": "stream",
     "text": [
      "C:/Users/ThiagoBS/Desktop/Trabalho de Visao Computacional/Sign Language Tests/ASL Alphabet/asl_alphabet_train/C\n"
     ]
    },
    {
     "name": "stderr",
     "output_type": "stream",
     "text": [
      "100%|█████████████████████████████████████| 3000/3000 [00:03<00:00, 912.92it/s]\n"
     ]
    },
    {
     "name": "stdout",
     "output_type": "stream",
     "text": [
      "A:  3000\n",
      "B:  3000\n",
      "C:  3000\n"
     ]
    }
   ],
   "source": [
    "REBUILD_DATA = True #Setar True para rodar uma vez e mudar para False, a não ser que seja necessário fazer alguma alteração no dataset\n",
    "\n",
    "#Definição da classe para o processamento de dados\n",
    "class Sign_Language():\n",
    "    IMG_SIZE = 50\n",
    "    A = \"C:/Users/ThiagoBS/Desktop/Trabalho de Visao Computacional/Sign Language Tests/ASL Alphabet/asl_alphabet_train/A\"\n",
    "    B = \"C:/Users/ThiagoBS/Desktop/Trabalho de Visao Computacional/Sign Language Tests/ASL Alphabet/asl_alphabet_train/B\"\n",
    "    C = \"C:/Users/ThiagoBS/Desktop/Trabalho de Visao Computacional/Sign Language Tests/ASL Alphabet/asl_alphabet_train/C\"\n",
    "    TESTING = \"C:/Users/ThiagoBS/Desktop/Trabalho de Visao Computacional/Sign Language Tests/ASL Alphabet/asl_alphabet_test - Testrun\"\n",
    "    LABELS = {A: 0, B: 1, C: 2}\n",
    "    training_data  = []\n",
    "    \n",
    "    Acount = 0\n",
    "    Bcount = 0\n",
    "    Ccount = 0\n",
    "    \n",
    "    #Função para montar os dados de treino\n",
    "    def make_training_data(self):\n",
    "        for label in self.LABELS:\n",
    "            print(label)\n",
    "            for f in tqdm(os.listdir(label)):\n",
    "                if \"jpg\" in f:\n",
    "                    try:\n",
    "                        path = os.path.join(label, f)\n",
    "                        img = cv2.imread(path, cv2.IMREAD_GRAYSCALE)\n",
    "                        #Para caso as imagens forem de tamanhos diferentes (ou quiser redimensionar o dataset), usar a função abaixo para redimensionar para um tamanho padrão\n",
    "                        img = cv2.resize(img, (self.IMG_SIZE, self.IMG_SIZE))\n",
    "                        self.training_data.append([np.array(img), np.eye(3)[self.LABELS[label]]])\n",
    "                        \n",
    "                        #Contar a quantidade de elementos de cada classe\n",
    "                        if label == self.A:\n",
    "                            self.Acount += 1\n",
    "                        elif label == self.B:\n",
    "                            self.Bcount += 1\n",
    "                        elif label == self.C:\n",
    "                            self.Ccount += 1\n",
    "                        \n",
    "                    except Exception as e:\n",
    "                        pass\n",
    "                        \n",
    "            \n",
    "        #Sortir os dados no conjunto, para melhor resposta do modelo\n",
    "        np.random.shuffle(self.training_data)\n",
    "        np.save(\"training_data(2).npy\", self.training_data)\n",
    "        print('A: ', signlanguage.Acount)\n",
    "        print('B: ', signlanguage.Bcount)\n",
    "        print('C: ', signlanguage.Ccount)\n",
    "\n",
    "#Se algum arquivo for alterado no dataset, executar para montar os dados de treino novamente\n",
    "if REBUILD_DATA:\n",
    "    signlanguage = Sign_Language()\n",
    "    signlanguage.make_training_data()"
   ]
  },
  {
   "cell_type": "code",
   "execution_count": 3,
   "metadata": {},
   "outputs": [
    {
     "name": "stdout",
     "output_type": "stream",
     "text": [
      "9000\n"
     ]
    }
   ],
   "source": [
    "#Para carregar o arquivo com os dados das imagens de treino\n",
    "training_data = np.load(\"training_data(2).npy\", allow_pickle = True)\n",
    "\n",
    "#Printa a quantidade de imagens que estão carregadas na varíavel de treino\n",
    "print(len(training_data))"
   ]
  },
  {
   "cell_type": "code",
   "execution_count": 4,
   "metadata": {},
   "outputs": [],
   "source": [
    "#Importando bibliotecas e pacotes necessários para construir o modelo de CNN\n",
    "import torch\n",
    "import torch.nn as nn\n",
    "import torch.nn.functional as F"
   ]
  },
  {
   "cell_type": "code",
   "execution_count": 5,
   "metadata": {},
   "outputs": [
    {
     "name": "stdout",
     "output_type": "stream",
     "text": [
      "Net(\n",
      "  (conv1): Conv2d(1, 32, kernel_size=(5, 5), stride=(1, 1))\n",
      "  (conv2): Conv2d(32, 64, kernel_size=(5, 5), stride=(1, 1))\n",
      "  (conv3): Conv2d(64, 128, kernel_size=(5, 5), stride=(1, 1))\n",
      "  (fc1): Linear(in_features=512, out_features=512, bias=True)\n",
      "  (fc2): Linear(in_features=512, out_features=3, bias=True)\n",
      ")\n"
     ]
    }
   ],
   "source": [
    "#Criando uma classe Net, o modelo da nossa Rede Neural\n",
    "\n",
    "class Net(nn.Module):\n",
    "    def __init__(self):\n",
    "        super().__init__()\n",
    "        self.conv1 = nn.Conv2d(1, 32, 5) #input é uma imagem, output são 32 convoluções, kernel/janela de 5x5\n",
    "        self.conv2 = nn.Conv2d(32, 64, 5) #input é o output da camada anterior, output são 64 convoluções...\n",
    "        self.conv3 = nn.Conv2d(64, 128, 5)\n",
    "        \n",
    "        #É necessário passar uma imagem aplainada (flattened) para as layers fully-connected\n",
    "        #Para isso criamos uma função para poder realizar esse processo\n",
    "        x = torch.randn(50, 50).view(-1, 1, 50, 50)\n",
    "        self._to_linear = None\n",
    "        self.convs(x)\n",
    "        \n",
    "        self.fc1 = nn.Linear(self._to_linear, 512) #Aplainamento\n",
    "        self.fc2 = nn.Linear(512, 3) #512 de entrada e 3 de saída por causa das classes (A, B e C)\n",
    "        \n",
    "    def convs(self, x):\n",
    "        #Max Pooling 2x2\n",
    "        x = F.max_pool2d(F.relu(self.conv1(x)), (2, 2))\n",
    "        x = F.max_pool2d(F.relu(self.conv2(x)), (2, 2))\n",
    "        x = F.max_pool2d(F.relu(self.conv3(x)), (2, 2))\n",
    "        \n",
    "        if self._to_linear is None:\n",
    "            self._to_linear = x[0].shape[0]*x[0].shape[1]*x[0].shape[2]\n",
    "        return x\n",
    "    \n",
    "    #Função que controla como os dados serão mandados para \"frente\"\n",
    "    def forward(self, x):\n",
    "        x = self.convs(x)\n",
    "        x = x.view(-1, self._to_linear) #Aplaina X antes\n",
    "        x = F.relu(self.fc1(x))\n",
    "        x = self.fc2(x) #Camada de saída, sem ativação Relu aqui\n",
    "        return F.softmax(x, dim = 1)\n",
    "    \n",
    "    \n",
    "net = Net()\n",
    "print(net)      "
   ]
  },
  {
   "cell_type": "code",
   "execution_count": 6,
   "metadata": {},
   "outputs": [],
   "source": [
    "#Agora precisamos treinar o nosso modelo\n",
    "\n",
    "import torch.optim as optim\n",
    "#Para minimizar a taxa de perda do modelo, devemos usar um otimizador\n",
    "optimizer = optim.Adam(net.parameters(), lr = 0.001) #Otimizador Adam para otimizar os parâmetros que variam, passo de aprendizado de 0.001\n",
    "loss_function = nn.MSELoss()"
   ]
  },
  {
   "cell_type": "code",
   "execution_count": 7,
   "metadata": {},
   "outputs": [],
   "source": [
    "#Precisamos também separar os nossos dados em X (features) e y (labels)\n",
    "X = torch.Tensor([i[0] for i in training_data]).view(-1, 50, 50)\n",
    "X = X/255.0\n",
    "y = torch.Tensor([i[1] for i in training_data])"
   ]
  },
  {
   "cell_type": "code",
   "execution_count": 8,
   "metadata": {},
   "outputs": [
    {
     "name": "stdout",
     "output_type": "stream",
     "text": [
      "900\n"
     ]
    }
   ],
   "source": [
    "VAL_PCT = 0.1 #Reservando 10% dos nossos dados para validação do modelo\n",
    "val_size = int(len(X)*VAL_PCT)\n",
    "print(val_size)"
   ]
  },
  {
   "cell_type": "code",
   "execution_count": 9,
   "metadata": {},
   "outputs": [
    {
     "name": "stdout",
     "output_type": "stream",
     "text": [
      "8100 900\n"
     ]
    }
   ],
   "source": [
    "#Definindo os X (features) e y(labels) de teste e treino\n",
    "train_X = X[: -val_size]\n",
    "train_y = y[: -val_size]\n",
    "\n",
    "test_X = X[-val_size: ]\n",
    "test_y = y[-val_size: ]\n",
    "\n",
    "print(len(train_X), len(test_X))"
   ]
  },
  {
   "cell_type": "code",
   "execution_count": null,
   "metadata": {},
   "outputs": [
    {
     "name": "stderr",
     "output_type": "stream",
     "text": [
      "100%|██████████████████████████████████████████| 81/81 [02:20<00:00,  1.67s/it]\n"
     ]
    },
    {
     "name": "stdout",
     "output_type": "stream",
     "text": [
      "Epoch: 0. Loss: 0.00039744595414958894\n"
     ]
    },
    {
     "name": "stderr",
     "output_type": "stream",
     "text": [
      "100%|██████████████████████████████████████████| 81/81 [02:25<00:00,  1.89s/it]\n"
     ]
    },
    {
     "name": "stdout",
     "output_type": "stream",
     "text": [
      "Epoch: 1. Loss: 0.00031481310725212097\n"
     ]
    },
    {
     "name": "stderr",
     "output_type": "stream",
     "text": [
      " 64%|██████████████████████████▉               | 52/81 [01:31<00:51,  1.77s/it]"
     ]
    }
   ],
   "source": [
    "#Nós precisamos iterar sobre os nossos dados. Para isso decidimos qual o tamanho dos batches usar.\n",
    "BATCH_SIZE = 100\n",
    "#EPOCHS é o número de vezes que será iterado sobre todos os dados do conjunto\n",
    "EPOCHS = 3\n",
    "\n",
    "#Definindo a função de treino\n",
    "def train(net):\n",
    "    for epoch in range(EPOCHS):\n",
    "        for i in tqdm(range(0, len(train_X), BATCH_SIZE)):\n",
    "            batch_X = train_X[i:i+BATCH_SIZE].view(-1, 1, 50, 50)\n",
    "            batch_y = train_y[i:i+BATCH_SIZE]\n",
    "\n",
    "            #Zera os gradientes ao fim de um batch\n",
    "            net.zero_grad()\n",
    "\n",
    "            outputs = net(batch_X)\n",
    "            loss = loss_function(outputs, batch_y)\n",
    "            loss.backward()\n",
    "            optimizer.step()    #Atualiza o otimizador\n",
    "\n",
    "        print(f\"Epoch: {epoch}. Loss: {loss}\")\n",
    "\n",
    "train(net)"
   ]
  },
  {
   "cell_type": "code",
   "execution_count": 13,
   "metadata": {},
   "outputs": [
    {
     "name": "stderr",
     "output_type": "stream",
     "text": [
      "100%|███████████████████████████████████████| 900/900 [00:07<00:00, 116.42it/s]\n"
     ]
    },
    {
     "name": "stdout",
     "output_type": "stream",
     "text": [
      "Precisão:  1.0\n"
     ]
    }
   ],
   "source": [
    "#Definindo a função de teste\n",
    "\n",
    "def test(net):\n",
    "    correct = 0\n",
    "    total = 0\n",
    "    with torch.no_grad():\n",
    "        for i in tqdm(range(len(test_X))):\n",
    "            real_class = torch.argmax(test_y[i])\n",
    "            net_out = net(test_X[i].view(-1, 1, 50, 50))[0] #Retorna uma lista que é o output dado pelo modelo na validação\n",
    "            predicted_class = torch.argmax(net_out)\n",
    "        \n",
    "            if predicted_class == real_class:\n",
    "                correct += 1\n",
    "            total += 1\n",
    "    print(\"Precisão: \", round(correct/total, 3))\n",
    "\n",
    "test(net)"
   ]
  }
 ],
 "metadata": {
  "kernelspec": {
   "display_name": "Python 3",
   "language": "python",
   "name": "python3"
  },
  "language_info": {
   "codemirror_mode": {
    "name": "ipython",
    "version": 3
   },
   "file_extension": ".py",
   "mimetype": "text/x-python",
   "name": "python",
   "nbconvert_exporter": "python",
   "pygments_lexer": "ipython3",
   "version": "3.7.3"
  }
 },
 "nbformat": 4,
 "nbformat_minor": 4
}
